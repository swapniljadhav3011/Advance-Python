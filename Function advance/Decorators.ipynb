{
 "cells": [
  {
   "cell_type": "markdown",
   "metadata": {},
   "source": [
    "Keyword arguments in python\n",
    "1. **kwargs\n",
    "2. kwargs acts like a dictionary"
   ]
  },
  {
   "cell_type": "code",
   "execution_count": 4,
   "metadata": {},
   "outputs": [
    {
     "data": {
      "text/plain": [
       "dict"
      ]
     },
     "execution_count": 4,
     "metadata": {},
     "output_type": "execute_result"
    }
   ],
   "source": [
    "d = {\n",
    "    \"name\" : \"Utkarsh\",\n",
    "    \"age\": 28,\n",
    "    \"married\": True\n",
    "}\n",
    "type(d)"
   ]
  },
  {
   "cell_type": "code",
   "execution_count": 5,
   "metadata": {},
   "outputs": [
    {
     "data": {
      "text/plain": [
       "{'name': 'Utkarsh', 'age': 28, 'married': True}"
      ]
     },
     "execution_count": 5,
     "metadata": {},
     "output_type": "execute_result"
    }
   ],
   "source": [
    "d"
   ]
  },
  {
   "cell_type": "code",
   "execution_count": null,
   "metadata": {},
   "outputs": [],
   "source": [
    "dict"
   ]
  },
  {
   "cell_type": "code",
   "execution_count": 6,
   "metadata": {},
   "outputs": [
    {
     "data": {
      "text/plain": [
       "<function dict.keys>"
      ]
     },
     "execution_count": 6,
     "metadata": {},
     "output_type": "execute_result"
    }
   ],
   "source": [
    "d.keys"
   ]
  },
  {
   "cell_type": "code",
   "execution_count": 7,
   "metadata": {},
   "outputs": [
    {
     "data": {
      "text/plain": [
       "dict_keys(['name', 'age', 'married'])"
      ]
     },
     "execution_count": 7,
     "metadata": {},
     "output_type": "execute_result"
    }
   ],
   "source": [
    "d.keys()"
   ]
  },
  {
   "cell_type": "code",
   "execution_count": 8,
   "metadata": {},
   "outputs": [
    {
     "data": {
      "text/plain": [
       "<function dict.items>"
      ]
     },
     "execution_count": 8,
     "metadata": {},
     "output_type": "execute_result"
    }
   ],
   "source": [
    "d.items"
   ]
  },
  {
   "cell_type": "code",
   "execution_count": 9,
   "metadata": {},
   "outputs": [
    {
     "data": {
      "text/plain": [
       "dict_items([('name', 'Utkarsh'), ('age', 28), ('married', True)])"
      ]
     },
     "execution_count": 9,
     "metadata": {},
     "output_type": "execute_result"
    }
   ],
   "source": [
    "d.items()"
   ]
  },
  {
   "cell_type": "code",
   "execution_count": 12,
   "metadata": {},
   "outputs": [],
   "source": [
    "def function(**kwargs):\n",
    "    print(kwargs)\n",
    "    print(type(kwargs))\n",
    "    for key, value in kwargs.items():\n",
    "        print(f\"{key} : {value}\")"
   ]
  },
  {
   "cell_type": "code",
   "execution_count": 13,
   "metadata": {},
   "outputs": [
    {
     "name": "stdout",
     "output_type": "stream",
     "text": [
      "{'name': 'Sarthak', 'age': 24}\n",
      "<class 'dict'>\n",
      "name : Sarthak\n",
      "age : 24\n"
     ]
    }
   ],
   "source": [
    "function(name=\"Sarthak\", age=24)\n"
   ]
  },
  {
   "cell_type": "code",
   "execution_count": 14,
   "metadata": {},
   "outputs": [
    {
     "name": "stdout",
     "output_type": "stream",
     "text": [
      "{'name': 'Aditi', 'age': 28, 'email': 'aditi@example.com', 'graduated': True}\n",
      "<class 'dict'>\n",
      "name : Aditi\n",
      "age : 28\n",
      "email : aditi@example.com\n",
      "graduated : True\n"
     ]
    }
   ],
   "source": [
    "function(name=\"Aditi\", age=28, email=\"aditi@example.com\", graduated=True)\n"
   ]
  },
  {
   "cell_type": "code",
   "execution_count": 16,
   "metadata": {},
   "outputs": [
    {
     "data": {
      "text/plain": [
       "{'name': 'Utkarsh', 'age': 28, 'married': True}"
      ]
     },
     "execution_count": 16,
     "metadata": {},
     "output_type": "execute_result"
    }
   ],
   "source": [
    "d"
   ]
  },
  {
   "cell_type": "code",
   "execution_count": 17,
   "metadata": {},
   "outputs": [
    {
     "name": "stdout",
     "output_type": "stream",
     "text": [
      "{'name': 'Utkarsh', 'age': 28, 'married': True}\n",
      "<class 'dict'>\n",
      "name : Utkarsh\n",
      "age : 28\n",
      "married : True\n"
     ]
    }
   ],
   "source": [
    "function(**d)"
   ]
  },
  {
   "cell_type": "markdown",
   "metadata": {},
   "source": [
    "Practical example for kwargs\n",
    "Perform billing for a restauraunt , provided the menu including taxes\n"
   ]
  },
  {
   "cell_type": "code",
   "execution_count": 18,
   "metadata": {},
   "outputs": [],
   "source": [
    "menu = {\n",
    "    \"burger\": 150,\n",
    "    \"pizza\": 270,\n",
    "    \"sandwich\": 100,\n",
    "    \"pasta\": 250,\n",
    "    \"coffee\": 50\n",
    "}"
   ]
  },
  {
   "cell_type": "code",
   "execution_count": 19,
   "metadata": {},
   "outputs": [
    {
     "data": {
      "text/plain": [
       "250"
      ]
     },
     "execution_count": 19,
     "metadata": {},
     "output_type": "execute_result"
    }
   ],
   "source": [
    "menu.get(\"pasta\")\n"
   ]
  },
  {
   "cell_type": "code",
   "execution_count": 20,
   "metadata": {},
   "outputs": [
    {
     "name": "stdout",
     "output_type": "stream",
     "text": [
      "None\n"
     ]
    }
   ],
   "source": [
    "a = menu.get(\"samosa\")\n",
    "print(a)"
   ]
  },
  {
   "cell_type": "code",
   "execution_count": 21,
   "metadata": {},
   "outputs": [],
   "source": [
    "def hotel_bill(**kwargs):\n",
    "    bill = 0\n",
    "    for food, qty in kwargs.items():\n",
    "        price = menu.get(food)\n",
    "        if price is not None:\n",
    "            amt = price*qty\n",
    "            bill = bill + amt\n",
    "            print(f\"Food Item : {food}, price : {price:.2f} INR Qty : {qty}, Subtotal : {amt:.2f} INR\")\n",
    "    print(f\"Total billing amount is : {bill:.2f} INR\")\n",
    "    return bill"
   ]
  },
  {
   "cell_type": "code",
   "execution_count": 22,
   "metadata": {},
   "outputs": [
    {
     "name": "stdout",
     "output_type": "stream",
     "text": [
      "Food Item : burger, price : 150.00 INR Qty : 2, Subtotal : 300.00 INR\n",
      "Food Item : coffee, price : 50.00 INR Qty : 1, Subtotal : 50.00 INR\n",
      "Total billing amount is : 350.00 INR\n"
     ]
    }
   ],
   "source": [
    "b1 = hotel_bill(burger=2, coffee=1)\n"
   ]
  },
  {
   "cell_type": "code",
   "execution_count": 23,
   "metadata": {},
   "outputs": [
    {
     "data": {
      "text/plain": [
       "350"
      ]
     },
     "execution_count": 23,
     "metadata": {},
     "output_type": "execute_result"
    }
   ],
   "source": [
    "b1"
   ]
  },
  {
   "cell_type": "code",
   "execution_count": 24,
   "metadata": {},
   "outputs": [
    {
     "name": "stdout",
     "output_type": "stream",
     "text": [
      "Food Item : pizza, price : 270.00 INR Qty : 4, Subtotal : 1080.00 INR\n",
      "Food Item : sandwich, price : 100.00 INR Qty : 2, Subtotal : 200.00 INR\n",
      "Food Item : coffee, price : 50.00 INR Qty : 6, Subtotal : 300.00 INR\n",
      "Total billing amount is : 1580.00 INR\n"
     ]
    }
   ],
   "source": [
    "b2 = hotel_bill(pizza=4, sandwich=2, coffee=6)"
   ]
  },
  {
   "cell_type": "code",
   "execution_count": 25,
   "metadata": {},
   "outputs": [],
   "source": [
    "table3 = {\n",
    "    \"pasta\": 3,\n",
    "    \"sandwich\": 2,\n",
    "    \"burger\": 1\n",
    "}"
   ]
  },
  {
   "cell_type": "code",
   "execution_count": 26,
   "metadata": {},
   "outputs": [
    {
     "name": "stdout",
     "output_type": "stream",
     "text": [
      "Food Item : pasta, price : 250.00 INR Qty : 3, Subtotal : 750.00 INR\n",
      "Food Item : sandwich, price : 100.00 INR Qty : 2, Subtotal : 200.00 INR\n",
      "Food Item : burger, price : 150.00 INR Qty : 1, Subtotal : 150.00 INR\n",
      "Total billing amount is : 1100.00 INR\n"
     ]
    },
    {
     "data": {
      "text/plain": [
       "1100"
      ]
     },
     "execution_count": 26,
     "metadata": {},
     "output_type": "execute_result"
    }
   ],
   "source": [
    "hotel_bill(**table3)\n"
   ]
  },
  {
   "attachments": {
    "image.png": {
     "image/png": "[encoded data removed]"
    }
   },
   "cell_type": "markdown",
   "metadata": {},
   "source": [
    "![image.png](attachment:image.png)"
   ]
  },
  {
   "cell_type": "code",
   "execution_count": 27,
   "metadata": {},
   "outputs": [],
   "source": [
    "def welcome(func):\n",
    "    def wrapper(*args, **kwargs):\n",
    "        print(\"Welcome user\")\n",
    "        result = func(*args, **kwargs)\n",
    "        print(f\"Result is : {result}\")\n",
    "        print(\"Thank you\")\n",
    "        return result\n",
    "\n",
    "    return wrapper"
   ]
  },
  {
   "cell_type": "markdown",
   "metadata": {},
   "source": [
    "Using decorator on any function\n"
   ]
  },
  {
   "cell_type": "code",
   "execution_count": 28,
   "metadata": {},
   "outputs": [],
   "source": [
    "@welcome\n",
    "def simple_intrest(P, N, R):\n",
    "    I = (P * N * R) / 100\n",
    "    return I"
   ]
  },
  {
   "cell_type": "code",
   "execution_count": 29,
   "metadata": {},
   "outputs": [
    {
     "name": "stdout",
     "output_type": "stream",
     "text": [
      "Welcome user\n",
      "Result is : 1950.0\n",
      "Thank you\n"
     ]
    }
   ],
   "source": [
    "I1 = simple_intrest(10000, 3, 6.5)\n"
   ]
  },
  {
   "cell_type": "code",
   "execution_count": 30,
   "metadata": {},
   "outputs": [
    {
     "name": "stdout",
     "output_type": "stream",
     "text": [
      "Welcome user\n",
      "Result is : 120000.0\n",
      "Thank you\n"
     ]
    }
   ],
   "source": [
    "I2 = simple_intrest(P=40000, N=3, R=100)\n"
   ]
  },
  {
   "cell_type": "code",
   "execution_count": 31,
   "metadata": {},
   "outputs": [
    {
     "name": "stdout",
     "output_type": "stream",
     "text": [
      "1950.0\n"
     ]
    }
   ],
   "source": [
    "print(I1)\n"
   ]
  },
  {
   "cell_type": "code",
   "execution_count": 32,
   "metadata": {},
   "outputs": [],
   "source": [
    "@welcome\n",
    "def hypotenuse(a, b):\n",
    "    c = (a**2 + b**2) ** (1 / 2)\n",
    "    return c"
   ]
  },
  {
   "cell_type": "code",
   "execution_count": 33,
   "metadata": {},
   "outputs": [
    {
     "name": "stdout",
     "output_type": "stream",
     "text": [
      "Welcome user\n",
      "Result is : 5.0\n",
      "Thank you\n"
     ]
    }
   ],
   "source": [
    "c = hypotenuse(3, 4)\n"
   ]
  },
  {
   "cell_type": "code",
   "execution_count": 34,
   "metadata": {},
   "outputs": [
    {
     "data": {
      "text/plain": [
       "5.0"
      ]
     },
     "execution_count": 34,
     "metadata": {},
     "output_type": "execute_result"
    }
   ],
   "source": [
    "c"
   ]
  },
  {
   "cell_type": "code",
   "execution_count": 35,
   "metadata": {},
   "outputs": [
    {
     "data": {
      "text/plain": [
       "5.0"
      ]
     },
     "execution_count": 35,
     "metadata": {},
     "output_type": "execute_result"
    }
   ],
   "source": [
    "5.0\n"
   ]
  },
  {
   "cell_type": "code",
   "execution_count": 36,
   "metadata": {},
   "outputs": [
    {
     "name": "stdout",
     "output_type": "stream",
     "text": [
      "Welcome user\n",
      "Result is : 6.4031242374328485\n",
      "Thank you\n"
     ]
    }
   ],
   "source": [
    "d = hypotenuse(a=4, b=5)\n"
   ]
  },
  {
   "cell_type": "markdown",
   "metadata": {},
   "source": [
    "Authenticate a user\n"
   ]
  },
  {
   "cell_type": "code",
   "execution_count": 37,
   "metadata": {},
   "outputs": [],
   "source": [
    "users = {\"sarthaks1\": \"Example@123\", \"aditim3\": \"More@456\", \"rahuls\": \"Passord#789\"}\n"
   ]
  },
  {
   "cell_type": "code",
   "execution_count": 38,
   "metadata": {},
   "outputs": [
    {
     "data": {
      "text/plain": [
       "'Example@123'"
      ]
     },
     "execution_count": 38,
     "metadata": {},
     "output_type": "execute_result"
    }
   ],
   "source": [
    "users.get(\"sarthaks1\")\n"
   ]
  },
  {
   "cell_type": "code",
   "execution_count": 39,
   "metadata": {},
   "outputs": [
    {
     "data": {
      "text/plain": [
       "'Example@123'"
      ]
     },
     "execution_count": 39,
     "metadata": {},
     "output_type": "execute_result"
    }
   ],
   "source": [
    "users[\"sarthaks1\"]\n"
   ]
  },
  {
   "cell_type": "code",
   "execution_count": 40,
   "metadata": {},
   "outputs": [],
   "source": [
    "def authenticate(func):\n",
    "    def wrapper(username, password, *args, **kwargs):\n",
    "        if username in users.keys() and password == users.get(username):\n",
    "            print(f\"Login Successfull , Welcome : {username}\")\n",
    "            result = func(username, password, *args, **kwargs)\n",
    "            print(f\"Result : {result}\")\n",
    "            print(\"Thank you for using this function\")\n",
    "            return result\n",
    "        else:\n",
    "            print(\"Login Unsuccessfull, Username, password not found\")\n",
    "\n",
    "    return wrapper"
   ]
  },
  {
   "cell_type": "code",
   "execution_count": 41,
   "metadata": {},
   "outputs": [],
   "source": [
    "@authenticate\n",
    "def compound_intrest(username, password, P, N, R):\n",
    "    A = P * (1 + R / 100) ** N\n",
    "    I = A - P\n",
    "    return I"
   ]
  },
  {
   "cell_type": "code",
   "execution_count": 42,
   "metadata": {},
   "outputs": [
    {
     "name": "stdout",
     "output_type": "stream",
     "text": [
      "Login Successfull , Welcome : sarthaks1\n",
      "Result : 15785.152784049977\n",
      "Thank you for using this function\n"
     ]
    },
    {
     "data": {
      "text/plain": [
       "15785.152784049977"
      ]
     },
     "execution_count": 42,
     "metadata": {},
     "output_type": "execute_result"
    }
   ],
   "source": [
    "compound_intrest(username=\"sarthaks1\", password=\"Example@123\", P=50000, N=4, R=7.1)\n"
   ]
  },
  {
   "cell_type": "code",
   "execution_count": 43,
   "metadata": {},
   "outputs": [
    {
     "name": "stdout",
     "output_type": "stream",
     "text": [
      "Login Unsuccessfull, Username, password not found\n"
     ]
    }
   ],
   "source": [
    "compound_intrest(username=\"utkarsh\", password=\"password\", P=10000, N=3, R=8.1)\n"
   ]
  },
  {
   "cell_type": "code",
   "execution_count": 44,
   "metadata": {},
   "outputs": [],
   "source": [
    "@welcome\n",
    "@authenticate\n",
    "def compound_intrest(username, password, P, N, R):\n",
    "    A = P * (1 + R / 100) ** N\n",
    "    I = A - P\n",
    "    return I"
   ]
  },
  {
   "cell_type": "code",
   "execution_count": 45,
   "metadata": {},
   "outputs": [
    {
     "name": "stdout",
     "output_type": "stream",
     "text": [
      "Welcome user\n",
      "Login Successfull , Welcome : sarthaks1\n",
      "Result : 15785.152784049977\n",
      "Thank you for using this function\n",
      "Result is : 15785.152784049977\n",
      "Thank you\n"
     ]
    },
    {
     "data": {
      "text/plain": [
       "15785.152784049977"
      ]
     },
     "execution_count": 45,
     "metadata": {},
     "output_type": "execute_result"
    }
   ],
   "source": [
    "compound_intrest(username=\"sarthaks1\", password=\"Example@123\", P=50000, N=4, R=7.1)\n"
   ]
  },
  {
   "cell_type": "code",
   "execution_count": null,
   "metadata": {},
   "outputs": [],
   "source": []
  }
 ],
 "metadata": {
  "kernelspec": {
   "display_name": "venv",
   "language": "python",
   "name": "python3"
  },
  "language_info": {
   "codemirror_mode": {
    "name": "ipython",
    "version": 3
   },
   "file_extension": ".py",
   "mimetype": "text/x-python",
   "name": "python",
   "nbconvert_exporter": "python",
   "pygments_lexer": "ipython3",
   "version": "3.12.5"
  }
 },
 "nbformat": 4,
 "nbformat_minor": 2
}
